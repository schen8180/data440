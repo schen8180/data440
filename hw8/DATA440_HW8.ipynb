{
  "nbformat": 4,
  "nbformat_minor": 0,
  "metadata": {
    "colab": {
      "provenance": []
    },
    "kernelspec": {
      "name": "python3",
      "display_name": "Python 3"
    }
  },
  "cells": [
    {
      "cell_type": "markdown",
      "source": [
        "[![Open in Colab](https://colab.research.google.com/assets/colab-badge.svg)](https://colab.research.google.com/github/anwala/teaching-web-science/blob/main/fall-2022/week-12/data_440_03_f22_mod_12_pci_ch_03.ipynb)"
      ],
      "metadata": {
        "id": "17oCDXDMDanU"
      }
    },
    {
      "cell_type": "markdown",
      "metadata": {
        "id": "UPcUF4Cwfr9O"
      },
      "source": [
        "## DATA 440-03 - Module 12 - Clustering (Ch 3, PCI)\n",
        "https://github.com/arthur-e/Programming-Collective-Intelligence/blob/master/chapter3/clusters.py"
      ]
    },
    {
      "cell_type": "markdown",
      "source": [
        "(Originally compiled by Dr. Michele C. Weigle - MCW)"
      ],
      "metadata": {
        "id": "hMTOuynfDoRe"
      }
    },
    {
      "cell_type": "markdown",
      "metadata": {
        "id": "5yVyt9hyGYDS"
      },
      "source": [
        "### General functions\n",
        "* required imports\n",
        "* `readfile(filename)` - returns arrays of rownames, colnames, data\n",
        "* `pearson(v1, v2)` - returns Pearson correlation between two vectors of numbers\n",
        "* `rotatematrix(data)` - returns rotated matrix (rows become columns and columns become rows)"
      ]
    },
    {
      "cell_type": "code",
      "metadata": {
        "id": "Lux6h3A_epkT"
      },
      "source": [
        "from PIL import Image, ImageDraw\n",
        "from math import sqrt\n",
        "import random\n",
        "import csv"
      ],
      "execution_count": 1,
      "outputs": []
    },
    {
      "cell_type": "code",
      "metadata": {
        "id": "AhuQ_N1xerDJ"
      },
      "source": [
        "def readfile(filename):\n",
        "  # This is a function that I wrote from scratch   -MCW\n",
        "  data = []\n",
        "  rownames = []\n",
        "  colnames = []\n",
        "  num_rows = 0\n",
        "  with open(filename) as tsvfile:\n",
        "    reader = csv.reader(tsvfile, delimiter='\\t')\n",
        "    for row in reader:\n",
        "      if num_rows > 0:\n",
        "        rownames.append(row[0])    # save the row names\n",
        "        data.append([float(x) for x in row[1:]])  # save the values as floats\n",
        "      else:\n",
        "        for col in row[1:]:\n",
        "          colnames.append(col)    # save the column names\n",
        "      num_rows = num_rows + 1\n",
        "  return (rownames, colnames, data)"
      ],
      "execution_count": 2,
      "outputs": []
    },
    {
      "cell_type": "code",
      "metadata": {
        "id": "ztJtGeeWetY3"
      },
      "source": [
        "def pearson(v1, v2):#distance function\n",
        "  # Simple sums\n",
        "    sum1 = sum(v1)\n",
        "    sum2 = sum(v2)\n",
        "\n",
        "  # Sums of the squares\n",
        "    sum1Sq = sum([pow(v, 2) for v in v1])\n",
        "    sum2Sq = sum([pow(v, 2) for v in v2])\n",
        "\n",
        "  # Sum of the products\n",
        "    pSum = sum([v1[i] * v2[i] for i in range(len(v1))])\n",
        "\n",
        "  # Calculate r (Pearson score)\n",
        "    num = pSum - sum1 * sum2 / len(v1)\n",
        "    den = sqrt((sum1Sq - pow(sum1, 2) / len(v1)) * (sum2Sq - pow(sum2, 2)\n",
        "               / len(v1)))\n",
        "    if den == 0:\n",
        "        return 0\n",
        "\n",
        "    return 1.0 - num / den"
      ],
      "execution_count": 3,
      "outputs": []
    },
    {
      "cell_type": "code",
      "metadata": {
        "id": "boq1M_Y2fHid"
      },
      "source": [
        "def rotatematrix(data):\n",
        "    newdata = []\n",
        "    for i in range(len(data[0])):\n",
        "        newrow = [data[j][i] for j in range(len(data))]\n",
        "        newdata.append(newrow)\n",
        "    return newdata"
      ],
      "execution_count": 4,
      "outputs": []
    },
    {
      "cell_type": "markdown",
      "metadata": {
        "id": "TJs3_RMqG57z"
      },
      "source": [
        "### Hierarchical Clustering\n",
        "\n",
        "* class `bicluster` - data structure to hold the clustering information\n",
        "* `hcluster(rows, distance=pearson)` - does the hierarchical clustering, default distance function is pearson()\n",
        "* `printclust(clust, labels=None, n=0)` -  traverses the cluster and prints an ASCII text representation"
      ]
    },
    {
      "cell_type": "code",
      "metadata": {
        "id": "upTWwSumevbe"
      },
      "source": [
        "class bicluster:\n",
        "\n",
        "    def __init__(self, vec, left=None, right=None, distance=0.0, id=None,):\n",
        "        self.left = left\n",
        "        self.right = right\n",
        "        self.vec = vec\n",
        "        self.id = id\n",
        "        self.distance = distance"
      ],
      "execution_count": 5,
      "outputs": []
    },
    {
      "cell_type": "code",
      "metadata": {
        "id": "-2DxU45Wew67"
      },
      "source": [
        "def hcluster(rows, distance=pearson):\n",
        "    distances = {}\n",
        "    currentclustid = -1\n",
        "\n",
        "  # Clusters are initially just the rows\n",
        "    clust = [bicluster(rows[i], id=i) for i in range(len(rows))]\n",
        "\n",
        "    while len(clust) > 1:\n",
        "        lowestpair = (0, 1)\n",
        "        closest = distance(clust[0].vec, clust[1].vec)\n",
        "\n",
        "    # loop through every pair looking for the smallest distance\n",
        "        for i in range(len(clust)):\n",
        "            for j in range(i + 1, len(clust)):\n",
        "        # distances is the cache of distance calculations\n",
        "                if (clust[i].id, clust[j].id) not in distances:\n",
        "                    distances[(clust[i].id, clust[j].id)] = \\\n",
        "                        distance(clust[i].vec, clust[j].vec)\n",
        "\n",
        "                d = distances[(clust[i].id, clust[j].id)]\n",
        "\n",
        "                if d < closest:\n",
        "                    closest = d\n",
        "                    lowestpair = (i, j)\n",
        "\n",
        "    # calculate the average of the two clusters\n",
        "        mergevec = [(clust[lowestpair[0]].vec[i] + clust[lowestpair[1]].vec[i])\n",
        "                    / 2.0 for i in range(len(clust[0].vec))]\n",
        "\n",
        "    # create the new cluster\n",
        "        newcluster = bicluster(mergevec, left=clust[lowestpair[0]],\n",
        "                               right=clust[lowestpair[1]], distance=closest,\n",
        "                               id=currentclustid)\n",
        "\n",
        "    # cluster ids that weren't in the original set are negative\n",
        "        currentclustid -= 1\n",
        "        del clust[lowestpair[1]]\n",
        "        del clust[lowestpair[0]]\n",
        "        clust.append(newcluster)\n",
        "\n",
        "    return clust[0]"
      ],
      "execution_count": 6,
      "outputs": []
    },
    {
      "cell_type": "code",
      "metadata": {
        "id": "aiLuXIoXe7Nh"
      },
      "source": [
        "def printclust(clust, labels=None, n=0):\n",
        "  # indent to make a hierarchy layout\n",
        "    for i in range(n):\n",
        "        print (' ', end =\" \")\n",
        "    if clust.id < 0:\n",
        "    # negative id means that this is branch\n",
        "        print ('-')\n",
        "    else:\n",
        "    # positive id means that this is an endpoint\n",
        "        if labels == None:\n",
        "            print (clust.id)\n",
        "        else:\n",
        "            print (labels[clust.id])\n",
        "\n",
        "  # now print the right and left branches\n",
        "    if clust.left != None:\n",
        "        printclust(clust.left, labels=labels, n=n + 1)\n",
        "    if clust.right != None:\n",
        "        printclust(clust.right, labels=labels, n=n + 1)"
      ],
      "execution_count": 7,
      "outputs": []
    },
    {
      "cell_type": "markdown",
      "metadata": {
        "id": "8VzgMCrBG_Wt"
      },
      "source": [
        "### Dendrogram"
      ]
    },
    {
      "cell_type": "code",
      "metadata": {
        "id": "6dCTaXFle87P"
      },
      "source": [
        "def getheight(clust):\n",
        "  # Is this an endpoint? Then the height is just 1\n",
        "    if clust.left == None and clust.right == None:\n",
        "        return 1\n",
        "\n",
        "  # Otherwise the height is the same of the heights of\n",
        "  # each branch\n",
        "    return getheight(clust.left) + getheight(clust.right)"
      ],
      "execution_count": 8,
      "outputs": []
    },
    {
      "cell_type": "code",
      "metadata": {
        "id": "mW_38VKxe-oA"
      },
      "source": [
        "def getdepth(clust):\n",
        "  # The distance of an endpoint is 0.0\n",
        "    if clust.left == None and clust.right == None:\n",
        "        return 0\n",
        "\n",
        "  # The distance of a branch is the greater of its two sides\n",
        "  # plus its own distance\n",
        "    return max(getdepth(clust.left), getdepth(clust.right)) + clust.distance"
      ],
      "execution_count": 9,
      "outputs": []
    },
    {
      "cell_type": "code",
      "metadata": {
        "id": "Urzd-sgOfA6d"
      },
      "source": [
        "def drawdendrogram(clust, labels, jpeg='clusters.jpg'):\n",
        "  # height and width\n",
        "    h = getheight(clust) * 20\n",
        "    w = 1200\n",
        "    depth = getdepth(clust)\n",
        "\n",
        "  # width is fixed, so scale distances accordingly\n",
        "    scaling = float(w - 150) / depth\n",
        "\n",
        "  # Create a new image with a white background\n",
        "    img = Image.new('RGB', (w, h), (255, 255, 255))\n",
        "    draw = ImageDraw.Draw(img)\n",
        "\n",
        "    draw.line((0, h / 2, 10, h / 2), fill=(255, 0, 0))\n",
        "\n",
        "  # Draw the first node\n",
        "    drawnode(\n",
        "        draw,\n",
        "        clust,\n",
        "        10,\n",
        "        h / 2,\n",
        "        scaling,\n",
        "        labels,\n",
        "        )\n",
        "    img.save(jpeg, 'JPEG')"
      ],
      "execution_count": 10,
      "outputs": []
    },
    {
      "cell_type": "code",
      "metadata": {
        "id": "xYrCsE2tfCG-"
      },
      "source": [
        "def drawnode(\n",
        "    draw,\n",
        "    clust,\n",
        "    x,\n",
        "    y,\n",
        "    scaling,\n",
        "    labels,\n",
        "    ):\n",
        "    if clust.id < 0:\n",
        "        h1 = getheight(clust.left) * 20\n",
        "        h2 = getheight(clust.right) * 20\n",
        "        top = y - (h1 + h2) / 2\n",
        "        bottom = y + (h1 + h2) / 2\n",
        "    # Line length\n",
        "        ll = clust.distance * scaling\n",
        "    # Vertical line from this cluster to children\n",
        "        draw.line((x, top + h1 / 2, x, bottom - h2 / 2), fill=(255, 0, 0))\n",
        "\n",
        "    # Horizontal line to left item\n",
        "        draw.line((x, top + h1 / 2, x + ll, top + h1 / 2), fill=(255, 0, 0))\n",
        "\n",
        "    # Horizontal line to right item\n",
        "        draw.line((x, bottom - h2 / 2, x + ll, bottom - h2 / 2), fill=(255, 0,\n",
        "                  0))\n",
        "\n",
        "    # Call the function to draw the left and right nodes\n",
        "        drawnode(\n",
        "            draw,\n",
        "            clust.left,\n",
        "            x + ll,\n",
        "            top + h1 / 2,\n",
        "            scaling,\n",
        "            labels,\n",
        "            )\n",
        "        drawnode(\n",
        "            draw,\n",
        "            clust.right,\n",
        "            x + ll,\n",
        "            bottom - h2 / 2,\n",
        "            scaling,\n",
        "            labels,\n",
        "            )\n",
        "    else:\n",
        "    # If this is an endpoint, draw the item label\n",
        "        draw.text((x + 5, y - 7), labels[clust.id], (0, 0, 0))"
      ],
      "execution_count": 11,
      "outputs": []
    },
    {
      "cell_type": "markdown",
      "metadata": {
        "id": "ownwQTBOHCFp"
      },
      "source": [
        "### k-Means Clustering"
      ]
    },
    {
      "cell_type": "code",
      "metadata": {
        "id": "ywMrcsBAfKn0"
      },
      "source": [
        "def kcluster(rows, distance=pearson, k=4):\n",
        "  # Determine the minimum and maximum values for each point\n",
        "    ranges = [(min([row[i] for row in rows]), max([row[i] for row in rows]))\n",
        "              for i in range(len(rows[0]))]\n",
        "\n",
        "  # Create k randomly placed centroids\n",
        "    clusters = [[random.random() * (ranges[i][1] - ranges[i][0]) + ranges[i][0]\n",
        "                for i in range(len(rows[0]))] for j in range(k)]\n",
        "\n",
        "    lastmatches = None\n",
        "    for t in range(100):\n",
        "        print ('Iteration %d' % t)\n",
        "        bestmatches = [[] for i in range(k)]\n",
        "\n",
        "    # Find which centroid is the closest for each row\n",
        "        for j in range(len(rows)):\n",
        "            row = rows[j]\n",
        "            bestmatch = 0\n",
        "            for i in range(k):\n",
        "                d = distance(clusters[i], row)\n",
        "                if d < distance(clusters[bestmatch], row):\n",
        "                    bestmatch = i\n",
        "            bestmatches[bestmatch].append(j)\n",
        "\n",
        "    # If the results are the same as last time, this is complete\n",
        "        if bestmatches == lastmatches:\n",
        "            break\n",
        "        lastmatches = bestmatches\n",
        "\n",
        "    # Move the centroids to the average of their members\n",
        "        for i in range(k):\n",
        "            avgs = [0.0] * len(rows[0])\n",
        "            if len(bestmatches[i]) > 0:\n",
        "                for rowid in bestmatches[i]:\n",
        "                    for m in range(len(rows[rowid])):\n",
        "                        avgs[m] += rows[rowid][m]\n",
        "                for j in range(len(avgs)):\n",
        "                    avgs[j] /= len(bestmatches[i])\n",
        "                clusters[i] = avgs\n",
        "\n",
        "    return bestmatches"
      ],
      "execution_count": 12,
      "outputs": []
    },
    {
      "cell_type": "markdown",
      "metadata": {
        "id": "HZqYK3B8HUNZ"
      },
      "source": [
        "### Multidimensional Scaling\n",
        "* `scaledown(data, distance=pearson, rate=0.01)` - performs the MDS algorithm, returns a vector with the x,y coordinates of each item, learning rate (how much to move items) is default 0.01\n",
        "* `draw2d(data, labels, jpeg=\"mds2d.jpg\")` - function to display the labels in 2d space"
      ]
    },
    {
      "cell_type": "code",
      "metadata": {
        "id": "0ijgjc45fPRO"
      },
      "source": [
        "def scaledown(data, distance=pearson, rate=0.01):\n",
        "    n = len(data)\n",
        "\n",
        "  # The real distances between every pair of items\n",
        "    realdist = [[distance(data[i], data[j]) for j in range(n)] for i in\n",
        "                range(0, n)]\n",
        "\n",
        "  # Randomly initialize the starting points of the locations in 2D\n",
        "    loc = [[random.random(), random.random()] for i in range(n)]\n",
        "    fakedist = [[0.0 for j in range(n)] for i in range(n)]\n",
        "\n",
        "    lasterror = None\n",
        "    for m in range(0, 1000):\n",
        "    # Find projected distances\n",
        "        for i in range(n):\n",
        "            for j in range(n):\n",
        "                fakedist[i][j] = sqrt(sum([pow(loc[i][x] - loc[j][x], 2)\n",
        "                                      for x in range(len(loc[i]))]))\n",
        "\n",
        "    # Move points\n",
        "        grad = [[0.0, 0.0] for i in range(n)]\n",
        "\n",
        "        totalerror = 0\n",
        "        for k in range(n):\n",
        "            for j in range(n):\n",
        "                if j == k:\n",
        "                    continue\n",
        "        # The error is percent difference between the distances\n",
        "                errorterm = (fakedist[j][k] - realdist[j][k]) / realdist[j][k]\n",
        "\n",
        "        # Each point needs to be moved away from or towards the other\n",
        "        # point in proportion to how much error it has\n",
        "                grad[k][0] += (loc[k][0] - loc[j][0]) / fakedist[j][k] \\\n",
        "                    * errorterm\n",
        "                grad[k][1] += (loc[k][1] - loc[j][1]) / fakedist[j][k] \\\n",
        "                    * errorterm\n",
        "\n",
        "        # Keep track of the total error\n",
        "                totalerror += abs(errorterm)\n",
        "        print (totalerror)\n",
        "\n",
        "    # If the answer got worse by moving the points, we are done\n",
        "        if lasterror and lasterror < totalerror:\n",
        "            break\n",
        "        lasterror = totalerror\n",
        "\n",
        "    # Move each of the points by the learning rate times the gradient\n",
        "        for k in range(n):\n",
        "            loc[k][0] -= rate * grad[k][0]\n",
        "            loc[k][1] -= rate * grad[k][1]\n",
        "\n",
        "    return loc"
      ],
      "execution_count": 13,
      "outputs": []
    },
    {
      "cell_type": "code",
      "metadata": {
        "id": "Ir7DFTArejCy"
      },
      "source": [
        "def draw2d(data, labels, jpeg='mds2d.jpg'):\n",
        "    img = Image.new('RGB', (2000, 2000), (255, 255, 255))\n",
        "    draw = ImageDraw.Draw(img)\n",
        "    for i in range(len(data)):\n",
        "        x = (data[i][0] + 0.5) * 1000\n",
        "        y = (data[i][1] + 0.5) * 1000\n",
        "        draw.text((x, y), labels[i], (0, 0, 0))\n",
        "    img.save(jpeg, 'JPEG')"
      ],
      "execution_count": 14,
      "outputs": []
    },
    {
      "cell_type": "markdown",
      "metadata": {
        "id": "GmAsQZ94fziR"
      },
      "source": [
        "## Examples"
      ]
    },
    {
      "cell_type": "markdown",
      "metadata": {
        "id": "edXfVRopkpfW"
      },
      "source": [
        "### Hierarchical Clustering and Dendrogram\n",
        "\n",
        "pg. 37 - read in file, generate hierarchical clusters\n",
        "\n",
        "**Note:** Before running this, must load blogdata.txt (or whatever file used) locally.  In Google Colab, click the folder icon in the sidebar to upload a file.  (Download blogdata.txt from https://raw.githubusercontent.com/arthur-e/Programming-Collective-Intelligence/master/chapter3/blogdata.txt)"
      ]
    },
    {
      "cell_type": "code",
      "source": [
        "\n",
        "/content/drive/MyDrive/DATA440Fall2023/tweet_term_matrix.txt"
      ],
      "metadata": {
        "id": "4e9p5cCqsRk-"
      },
      "execution_count": null,
      "outputs": []
    },
    {
      "cell_type": "code",
      "metadata": {
        "id": "JfkbVJJsf1Pn"
      },
      "source": [
        "twitternames, words, data = readfile(\"/content/drive/MyDrive/DATA440Fall2023/tweet_term_matrix.txt\")"
      ],
      "execution_count": 46,
      "outputs": []
    },
    {
      "cell_type": "code",
      "metadata": {
        "id": "AcTTgL1GbwXG",
        "colab": {
          "base_uri": "https://localhost:8080/"
        },
        "outputId": "d04ed260-910f-4f13-b3aa-998c26d5832c"
      },
      "source": [
        "twitternames[:5]"
      ],
      "execution_count": 47,
      "outputs": [
        {
          "output_type": "execute_result",
          "data": {
            "text/plain": [
              "['katyperry', 'justinbieber', 'taylorswift13', 'rihanna', 'ladygaga']"
            ]
          },
          "metadata": {},
          "execution_count": 47
        }
      ]
    },
    {
      "cell_type": "code",
      "source": [
        "# in order to mount from google.colab import drive\n",
        "drive.mount('/content/drive')"
      ],
      "metadata": {
        "colab": {
          "base_uri": "https://localhost:8080/"
        },
        "id": "qODvZclHroiI",
        "outputId": "98c6f8ee-e751-4817-f583-1bbe702389aa"
      },
      "execution_count": 16,
      "outputs": [
        {
          "output_type": "stream",
          "name": "stdout",
          "text": [
            "Mounted at /content/drive\n"
          ]
        }
      ]
    },
    {
      "cell_type": "code",
      "metadata": {
        "id": "4O8faj38bzVE",
        "colab": {
          "base_uri": "https://localhost:8080/"
        },
        "outputId": "48b81449-9e2e-42e1-9353-127a3d29c620"
      },
      "source": [
        "words[:5]"
      ],
      "execution_count": 19,
      "outputs": [
        {
          "output_type": "execute_result",
          "data": {
            "text/plain": [
              "['week', 'over', 'let', 'were', 'look']"
            ]
          },
          "metadata": {},
          "execution_count": 19
        }
      ]
    },
    {
      "cell_type": "code",
      "metadata": {
        "id": "MYGkrXjAb11n",
        "colab": {
          "base_uri": "https://localhost:8080/"
        },
        "outputId": "11cc77b2-e4e4-4609-a8ea-cf26bf515c4f"
      },
      "source": [
        "data[2][:5]"
      ],
      "execution_count": 20,
      "outputs": [
        {
          "output_type": "execute_result",
          "data": {
            "text/plain": [
              "[0.0, 0.0, 0.0, 0.0, 0.0]"
            ]
          },
          "metadata": {},
          "execution_count": 20
        }
      ]
    },
    {
      "cell_type": "code",
      "metadata": {
        "id": "UAk3cTleg7jC"
      },
      "source": [
        "clust = hcluster(data)"
      ],
      "execution_count": 21,
      "outputs": []
    },
    {
      "cell_type": "code",
      "metadata": {
        "id": "b-PSBNxkb8SG",
        "colab": {
          "base_uri": "https://localhost:8080/"
        },
        "outputId": "aba4bedb-6a1f-4501-c134-43771ea1e78a"
      },
      "source": [
        "clust"
      ],
      "execution_count": 22,
      "outputs": [
        {
          "output_type": "execute_result",
          "data": {
            "text/plain": [
              "<__main__.bicluster at 0x79b1aefd8910>"
            ]
          },
          "metadata": {},
          "execution_count": 22
        }
      ]
    },
    {
      "cell_type": "code",
      "metadata": {
        "id": "PfuA57B3b_ay",
        "colab": {
          "base_uri": "https://localhost:8080/"
        },
        "outputId": "f6ff5ac6-460d-4406-8a50-cc539405b7a2"
      },
      "source": [
        "clust.id"
      ],
      "execution_count": 23,
      "outputs": [
        {
          "output_type": "execute_result",
          "data": {
            "text/plain": [
              "-49"
            ]
          },
          "metadata": {},
          "execution_count": 23
        }
      ]
    },
    {
      "cell_type": "code",
      "metadata": {
        "id": "Gk38nxZKieYn",
        "colab": {
          "base_uri": "https://localhost:8080/"
        },
        "outputId": "fa291bbb-b020-4be1-c256-9a3ade634e8f"
      },
      "source": [
        "clust.left"
      ],
      "execution_count": 24,
      "outputs": [
        {
          "output_type": "execute_result",
          "data": {
            "text/plain": [
              "<__main__.bicluster at 0x79b1aefd8b80>"
            ]
          },
          "metadata": {},
          "execution_count": 24
        }
      ]
    },
    {
      "cell_type": "code",
      "metadata": {
        "id": "qtBXEi0DcFPa"
      },
      "source": [
        "clust.vec"
      ],
      "execution_count": null,
      "outputs": []
    },
    {
      "cell_type": "code",
      "metadata": {
        "id": "bmS1cpI_hcox",
        "colab": {
          "base_uri": "https://localhost:8080/"
        },
        "outputId": "6c6dd3a1-4051-4702-ee7a-b17ec6583ddc"
      },
      "source": [
        "printclust(clust, labels=twitternames)"
      ],
      "execution_count": 48,
      "outputs": [
        {
          "output_type": "stream",
          "name": "stdout",
          "text": [
            "-\n",
            "  -\n",
            "    neymarjr\n",
            "    -\n",
            "      TheEllenShow\n",
            "      britneyspears\n",
            "  -\n",
            "    -\n",
            "      -\n",
            "        ActuallyNPH\n",
            "        -\n",
            "          JLo\n",
            "          ArianaGrande\n",
            "      -\n",
            "        -\n",
            "          MileyCyrus\n",
            "          wizkhalifa\n",
            "        -\n",
            "          -\n",
            "            NICKIMINAJ\n",
            "            -\n",
            "              ladygaga\n",
            "              jtimberlake\n",
            "          -\n",
            "            -\n",
            "              Louis_Tomlinson\n",
            "              -\n",
            "                taylorswift13\n",
            "                rihanna\n",
            "            -\n",
            "              -\n",
            "                danieltosh\n",
            "                -\n",
            "                  ddlovato\n",
            "                  jimmyfallon\n",
            "              -\n",
            "                -\n",
            "                  ConanOBrien\n",
            "                  -\n",
            "                    Drake\n",
            "                    Harry_Styles\n",
            "                -\n",
            "                  -\n",
            "                    AvrilLavigne\n",
            "                    -\n",
            "                      shakira\n",
            "                      selenagomez\n",
            "                  -\n",
            "                    -\n",
            "                      davidguetta\n",
            "                      -\n",
            "                        Oprah\n",
            "                        Pink\n",
            "                    -\n",
            "                      -\n",
            "                        Eminem\n",
            "                        -\n",
            "                          Cristiano\n",
            "                          KimKardashian\n",
            "                      -\n",
            "                        -\n",
            "                          pitbull\n",
            "                          -\n",
            "                            katyperry\n",
            "                            justinbieber\n",
            "                        -\n",
            "                          -\n",
            "                            aliciakeys\n",
            "                            Real_Liam_Payne\n",
            "                          -\n",
            "                            -\n",
            "                              KevinHart4real\n",
            "                              EmWatson\n",
            "                            -\n",
            "                              -\n",
            "                                SrBachchan\n",
            "                                -\n",
            "                                  onedirection\n",
            "                                  BillGates\n",
            "                              -\n",
            "                                iamsrk\n",
            "                                -\n",
            "                                  zaynmalik\n",
            "                                  -\n",
            "                                    aplusk\n",
            "                                    -\n",
            "                                      KingJames\n",
            "                                      LilTunechi\n",
            "    -\n",
            "      -\n",
            "        khloekardashian\n",
            "        -\n",
            "          BrunoMars\n",
            "          KAKA\n",
            "      -\n",
            "        kourtneykardash\n",
            "        -\n",
            "          Adele\n",
            "          NiallOfficial\n"
          ]
        }
      ]
    },
    {
      "cell_type": "markdown",
      "metadata": {
        "id": "k1PffPLsiQE4"
      },
      "source": [
        "pg. 40 - draw the dendrogram and save as jpg\n",
        "\n",
        "**Note:** In Google Colab, this file will be generated locally, so click the folder icon in the sidebar to view the generated file.  You may need to click Refresh if the file doesn't appear."
      ]
    },
    {
      "cell_type": "code",
      "source": [
        "data"
      ],
      "metadata": {
        "id": "-OI9eqYvt3uF"
      },
      "execution_count": null,
      "outputs": []
    },
    {
      "cell_type": "code",
      "metadata": {
        "id": "IJflP5VBiSXw"
      },
      "source": [
        "drawdendrogram(clust, twitternames, jpeg='twitterclust.jpg')"
      ],
      "execution_count": 27,
      "outputs": []
    },
    {
      "cell_type": "markdown",
      "metadata": {
        "id": "Lf6LP4LSip55"
      },
      "source": [
        "pg. 40 - rotate and draw dendrogram with term labels, save as jpg"
      ]
    },
    {
      "cell_type": "code",
      "metadata": {
        "id": "peymQ5ODivEy"
      },
      "source": [
        "rdata = rotatematrix(data)\n",
        "wordclust = hcluster(rdata)\n",
        "drawdendrogram(wordclust, labels=words, jpeg='wordclust.jpg')"
      ],
      "execution_count": null,
      "outputs": []
    },
    {
      "cell_type": "markdown",
      "metadata": {
        "id": "lb2mBExkjbos"
      },
      "source": [
        "### k-Means\n",
        "pg. 44 - kmeans"
      ]
    },
    {
      "cell_type": "code",
      "metadata": {
        "id": "lYAiJtEJjckO",
        "colab": {
          "base_uri": "https://localhost:8080/"
        },
        "outputId": "cd76892e-b3e8-4082-9a30-505903f94f9f"
      },
      "source": [
        "kclust = kcluster(data, k=10)"
      ],
      "execution_count": 38,
      "outputs": [
        {
          "output_type": "stream",
          "name": "stdout",
          "text": [
            "Iteration 0\n",
            "Iteration 1\n",
            "Iteration 2\n",
            "Iteration 3\n"
          ]
        }
      ]
    },
    {
      "cell_type": "code",
      "metadata": {
        "id": "V6Y9u0nxoN4E",
        "colab": {
          "base_uri": "https://localhost:8080/"
        },
        "outputId": "51619d43-cb57-4bce-8f8d-9b0774728f90"
      },
      "source": [
        "kclust[0]"
      ],
      "execution_count": 39,
      "outputs": [
        {
          "output_type": "execute_result",
          "data": {
            "text/plain": [
              "[0,\n",
              " 1,\n",
              " 2,\n",
              " 3,\n",
              " 4,\n",
              " 5,\n",
              " 6,\n",
              " 7,\n",
              " 8,\n",
              " 9,\n",
              " 10,\n",
              " 11,\n",
              " 12,\n",
              " 13,\n",
              " 14,\n",
              " 15,\n",
              " 16,\n",
              " 17,\n",
              " 18,\n",
              " 19,\n",
              " 20,\n",
              " 21,\n",
              " 22,\n",
              " 23,\n",
              " 24,\n",
              " 25,\n",
              " 26,\n",
              " 27,\n",
              " 31,\n",
              " 33,\n",
              " 34,\n",
              " 38]"
            ]
          },
          "metadata": {},
          "execution_count": 39
        }
      ]
    },
    {
      "cell_type": "code",
      "metadata": {
        "id": "-qs86YcSj2Yk",
        "colab": {
          "base_uri": "https://localhost:8080/"
        },
        "outputId": "e22dfe5d-997b-48f9-d7f1-ab62e487ff6a"
      },
      "source": [
        "[twitternames[r] for r in kclust[0]]"
      ],
      "execution_count": 40,
      "outputs": [
        {
          "output_type": "execute_result",
          "data": {
            "text/plain": [
              "['katyperry',\n",
              " 'justinbieber',\n",
              " 'taylorswift13',\n",
              " 'rihanna',\n",
              " 'ladygaga',\n",
              " 'jtimberlake',\n",
              " 'TheEllenShow',\n",
              " 'britneyspears',\n",
              " 'Cristiano',\n",
              " 'KimKardashian',\n",
              " 'shakira',\n",
              " 'selenagomez',\n",
              " 'JLo',\n",
              " 'ArianaGrande',\n",
              " 'ddlovato',\n",
              " 'jimmyfallon',\n",
              " 'Oprah',\n",
              " 'Pink',\n",
              " 'Drake',\n",
              " 'Harry_Styles',\n",
              " 'onedirection',\n",
              " 'BillGates',\n",
              " 'KingJames',\n",
              " 'LilTunechi',\n",
              " 'BrunoMars',\n",
              " 'KAKA',\n",
              " 'Adele',\n",
              " 'NiallOfficial',\n",
              " 'wizkhalifa',\n",
              " 'Real_Liam_Payne',\n",
              " 'Louis_Tomlinson',\n",
              " 'EmWatson']"
            ]
          },
          "metadata": {},
          "execution_count": 40
        }
      ]
    },
    {
      "cell_type": "code",
      "metadata": {
        "id": "UiesUVb0j8At",
        "colab": {
          "base_uri": "https://localhost:8080/"
        },
        "outputId": "8b0e7299-a289-4a08-b217-88f49599907d"
      },
      "source": [
        "[twitternames[r] for r in kclust[1]]"
      ],
      "execution_count": 43,
      "outputs": [
        {
          "output_type": "execute_result",
          "data": {
            "text/plain": [
              "[]"
            ]
          },
          "metadata": {},
          "execution_count": 43
        }
      ]
    },
    {
      "cell_type": "code",
      "metadata": {
        "id": "1Xm1ROHbwb7J",
        "colab": {
          "base_uri": "https://localhost:8080/"
        },
        "outputId": "48116098-20f7-4996-c0b3-c20caf4cda77"
      },
      "source": [
        "for i in range(len(kclust)):\n",
        "  print (\"cluster \", i+1, \": \", len(kclust[i]))"
      ],
      "execution_count": 44,
      "outputs": [
        {
          "output_type": "stream",
          "name": "stdout",
          "text": [
            "cluster  1 :  32\n",
            "cluster  2 :  0\n",
            "cluster  3 :  3\n",
            "cluster  4 :  0\n",
            "cluster  5 :  2\n",
            "cluster  6 :  2\n",
            "cluster  7 :  3\n",
            "cluster  8 :  7\n",
            "cluster  9 :  0\n",
            "cluster  10 :  1\n"
          ]
        }
      ]
    },
    {
      "cell_type": "markdown",
      "metadata": {
        "id": "MunDTVPFkF4p"
      },
      "source": [
        "### MDS\n",
        "\n",
        "pg. 52 - MDS"
      ]
    },
    {
      "cell_type": "code",
      "metadata": {
        "id": "_u-CWzEYkILC",
        "colab": {
          "base_uri": "https://localhost:8080/",
          "height": 304
        },
        "outputId": "93efacd2-bc4e-4ccf-f3a1-76c1779abc45"
      },
      "source": [
        "coords = scaledown(data)"
      ],
      "execution_count": 45,
      "outputs": [
        {
          "output_type": "error",
          "ename": "ZeroDivisionError",
          "evalue": "ignored",
          "traceback": [
            "\u001b[0;31m---------------------------------------------------------------------------\u001b[0m",
            "\u001b[0;31mZeroDivisionError\u001b[0m                         Traceback (most recent call last)",
            "\u001b[0;32m<ipython-input-45-9099f5e32586>\u001b[0m in \u001b[0;36m<cell line: 1>\u001b[0;34m()\u001b[0m\n\u001b[0;32m----> 1\u001b[0;31m \u001b[0mcoords\u001b[0m \u001b[0;34m=\u001b[0m \u001b[0mscaledown\u001b[0m\u001b[0;34m(\u001b[0m\u001b[0mdata\u001b[0m\u001b[0;34m)\u001b[0m\u001b[0;34m\u001b[0m\u001b[0;34m\u001b[0m\u001b[0m\n\u001b[0m",
            "\u001b[0;32m<ipython-input-13-aaceda1da9e9>\u001b[0m in \u001b[0;36mscaledown\u001b[0;34m(data, distance, rate)\u001b[0m\n\u001b[1;32m     27\u001b[0m                     \u001b[0;32mcontinue\u001b[0m\u001b[0;34m\u001b[0m\u001b[0;34m\u001b[0m\u001b[0m\n\u001b[1;32m     28\u001b[0m         \u001b[0;31m# The error is percent difference between the distances\u001b[0m\u001b[0;34m\u001b[0m\u001b[0;34m\u001b[0m\u001b[0m\n\u001b[0;32m---> 29\u001b[0;31m                 \u001b[0merrorterm\u001b[0m \u001b[0;34m=\u001b[0m \u001b[0;34m(\u001b[0m\u001b[0mfakedist\u001b[0m\u001b[0;34m[\u001b[0m\u001b[0mj\u001b[0m\u001b[0;34m]\u001b[0m\u001b[0;34m[\u001b[0m\u001b[0mk\u001b[0m\u001b[0;34m]\u001b[0m \u001b[0;34m-\u001b[0m \u001b[0mrealdist\u001b[0m\u001b[0;34m[\u001b[0m\u001b[0mj\u001b[0m\u001b[0;34m]\u001b[0m\u001b[0;34m[\u001b[0m\u001b[0mk\u001b[0m\u001b[0;34m]\u001b[0m\u001b[0;34m)\u001b[0m \u001b[0;34m/\u001b[0m \u001b[0mrealdist\u001b[0m\u001b[0;34m[\u001b[0m\u001b[0mj\u001b[0m\u001b[0;34m]\u001b[0m\u001b[0;34m[\u001b[0m\u001b[0mk\u001b[0m\u001b[0;34m]\u001b[0m\u001b[0;34m\u001b[0m\u001b[0;34m\u001b[0m\u001b[0m\n\u001b[0m\u001b[1;32m     30\u001b[0m \u001b[0;34m\u001b[0m\u001b[0m\n\u001b[1;32m     31\u001b[0m         \u001b[0;31m# Each point needs to be moved away from or towards the other\u001b[0m\u001b[0;34m\u001b[0m\u001b[0;34m\u001b[0m\u001b[0m\n",
            "\u001b[0;31mZeroDivisionError\u001b[0m: float division by zero"
          ]
        }
      ]
    },
    {
      "cell_type": "code",
      "metadata": {
        "id": "c4pDDW4OkPU8"
      },
      "source": [
        "draw2d(coords, blognames, jpeg='blogs2d.jpg')"
      ],
      "execution_count": null,
      "outputs": []
    }
  ]
}